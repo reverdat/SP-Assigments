{
 "cells": [
  {
   "cell_type": "markdown",
   "metadata": {},
   "source": [
    "# Lab 2: Newsvendor problem\n",
    "## Stochastic Programming (MESIO), 07/03/2025\n",
    "\n",
    "### Arnau Pérez Reverte"
   ]
  },
  {
   "cell_type": "markdown",
   "metadata": {},
   "source": [
    "#### 1. Set up AMPLpy"
   ]
  },
  {
   "cell_type": "code",
   "execution_count": 1,
   "metadata": {},
   "outputs": [],
   "source": [
    "from amplpy import AMPL, Environment\n",
    "\n",
    "ampl = AMPL(Environment(\"\"))\n",
    "ampl.read(\"ampl/newsvendor.mod\")\n",
    "ampl.setOption(\"solver\", \"cplex\")\n",
    "ampl.option[\"solver\"] = \"cplex\""
   ]
  },
  {
   "cell_type": "markdown",
   "metadata": {},
   "source": [
    "#### 2. Data parsing into AMPL"
   ]
  },
  {
   "cell_type": "code",
   "execution_count": 2,
   "metadata": {},
   "outputs": [],
   "source": [
    "ampl.param['c'] = 8\n",
    "ampl.param['q'] = 10\n",
    "ampl.param['r'] = 5\n",
    "ampl.param['u'] = 200\n",
    "ampl.param['N'] = 140\n",
    "ampl.param['m'] = 100\n",
    "ampl.param['M'] = 200"
   ]
  },
  {
   "cell_type": "markdown",
   "metadata": {},
   "source": [
    "#### 3. Solution"
   ]
  },
  {
   "cell_type": "code",
   "execution_count": 3,
   "metadata": {},
   "outputs": [
    {
     "name": "stdout",
     "output_type": "stream",
     "text": [
      "CPLEX 22.1.1CPLEX 22.1.1: optimal solution; objective -239.5683453\n",
      "223 simplex iterations\n",
      "\n",
      "\"option abs_boundtol 1.4210854715202004e-14;\"\n",
      "or \"option rel_boundtol 1.1352349456397003e-16;\"\n",
      "will change deduced dual values.\n",
      "\n",
      "Objective value: 239.56834532374236 €\n"
     ]
    }
   ],
   "source": [
    "ampl.solve(solver=\"cplex\")\n",
    "\n",
    "obj_value = obj = ampl.get_objective(\"Total_Cost\").value()\n",
    "print(f\"Objective value: {-obj_value} €\")"
   ]
  },
  {
   "cell_type": "markdown",
   "metadata": {},
   "source": [
    "Export solution as CSV:"
   ]
  },
  {
   "cell_type": "code",
   "execution_count": 4,
   "metadata": {},
   "outputs": [],
   "source": [
    "import os\n",
    "\n",
    "os.makedirs('exports/', exist_ok=True)\n",
    "\n",
    "ampl.get_variable(\"x\").getValues().to_pandas().to_csv(\"exports/x.csv\")\n",
    "ampl.get_variable(\"y\").getValues().to_pandas().to_csv(\"exports/y.csv\")\n",
    "ampl.get_variable(\"w\").getValues().to_pandas().to_csv(\"exports/w.csv\")"
   ]
  }
 ],
 "metadata": {
  "kernelspec": {
   "display_name": ".venv",
   "language": "python",
   "name": "python3"
  },
  "language_info": {
   "codemirror_mode": {
    "name": "ipython",
    "version": 3
   },
   "file_extension": ".py",
   "mimetype": "text/x-python",
   "name": "python",
   "nbconvert_exporter": "python",
   "pygments_lexer": "ipython3",
   "version": "3.12.3"
  }
 },
 "nbformat": 4,
 "nbformat_minor": 2
}
