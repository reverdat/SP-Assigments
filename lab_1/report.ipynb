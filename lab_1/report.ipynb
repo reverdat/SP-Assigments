{
 "cells": [
  {
   "cell_type": "markdown",
   "metadata": {},
   "source": [
    "# Lab 1: Stochastic version of The Farmer Problem\n",
    "## Stochastic Programming (MESIO), 28/02/2025\n",
    "\n",
    "### Arnau Pérez Reverte"
   ]
  },
  {
   "cell_type": "markdown",
   "metadata": {},
   "source": [
    "#### 1. Set up AMPLpy"
   ]
  },
  {
   "cell_type": "code",
   "execution_count": 1,
   "metadata": {},
   "outputs": [],
   "source": [
    "from amplpy import AMPL, Environment\n",
    "\n",
    "ampl = AMPL(Environment(\"\"))\n",
    "ampl.read(\"ampl/farmer_stochastic.mod\")\n",
    "ampl.setOption(\"solver\", \"cplex\")\n",
    "ampl.option[\"solver\"] = \"cplex\""
   ]
  },
  {
   "cell_type": "markdown",
   "metadata": {},
   "source": [
    "#### 2. Data preparation using Pandas"
   ]
  },
  {
   "cell_type": "code",
   "execution_count": 2,
   "metadata": {},
   "outputs": [],
   "source": [
    "import pandas as pd\n",
    "\n",
    "crop_yield = {\n",
    "    \"BAD\": {\"wheat\": {\"yield\": 2}, \"corn\": {\"yield\": 2.4}, \"sugar_beet\": {\"yield\": 16}},\n",
    "    \"NORMAL\": {\n",
    "        \"wheat\": {\"yield\": 2.5},\n",
    "        \"corn\": {\"yield\": 3},\n",
    "        \"sugar_beet\": {\"yield\": 20},\n",
    "    },\n",
    "    \"GOOD\": {\n",
    "        \"wheat\": {\"yield\": 3},\n",
    "        \"corn\": {\"yield\": 3.6},\n",
    "        \"sugar_beet\": {\"yield\": 24},\n",
    "    },\n",
    "}\n",
    "\n",
    "cplant = {\n",
    "    \"wheat\": 150,\n",
    "    \"corn\": 230,\n",
    "    \"sugar_beet\": 260,\n",
    "}\n",
    "\n",
    "yield_data = {\n",
    "    (crop, scenario): crop_yield[scenario][crop][\"yield\"]\n",
    "    for scenario in crop_yield\n",
    "    for crop in crop_yield[scenario]\n",
    "}\n",
    "yield_df = pd.DataFrame.from_dict(yield_data, orient=\"index\", columns=[\"yield\"])\n",
    "yield_df.index = pd.MultiIndex.from_tuples(yield_df.index, names=[\"CROP\", \"SCENARIOS\"])\n",
    "\n",
    "cplant_df = pd.DataFrame.from_dict(cplant, orient=\"index\", columns=[\"cplant\"])\n",
    "cplant_df.index.name = \"CROP\"\n",
    "\n",
    "\n",
    "crop_data = {\n",
    "    'wheat': {'min_crop': 200, 'psell': 170, 'ppurchase': 238},\n",
    "    'corn': {'min_crop': 240, 'psell': 150, 'ppurchase': 210}\n",
    "}\n",
    "crop_df = pd.DataFrame.from_dict(crop_data, orient='index')\n",
    "crop_df.index.name = 'CROP1'\n",
    "\n",
    "pvbelow  = 36\n",
    "pvabove = 10\n",
    "land_total  = 500 \n",
    "pscenario = float(1)/3"
   ]
  },
  {
   "cell_type": "markdown",
   "metadata": {},
   "source": [
    "#### 3. Data parsing into AMPL"
   ]
  },
  {
   "cell_type": "code",
   "execution_count": 3,
   "metadata": {},
   "outputs": [],
   "source": [
    "ampl.set['SCENARIOS'] = ['BAD', 'NORMAL', 'GOOD']\n",
    "ampl.set['CROP1'] = ['wheat', 'corn']\n",
    "ampl.set['CROP2'] = ['sugar_beet']\n",
    "\n",
    "ampl.param['yield'] = yield_df\n",
    "ampl.param['cplant'] = cplant_df\n",
    "ampl.param['min_crop'] = crop_df[['min_crop']]\n",
    "ampl.param['psell'] = crop_df[['psell']]\n",
    "ampl.param['ppurchase'] = crop_df[['ppurchase']]\n",
    "ampl.param['pvbelow'] = pvbelow\n",
    "ampl.param['pvabove'] = pvabove\n",
    "ampl.param['land_total'] = land_total\n",
    "ampl.param['pscenario'] = pscenario"
   ]
  },
  {
   "cell_type": "markdown",
   "metadata": {},
   "source": [
    "#### 4. Solution"
   ]
  },
  {
   "cell_type": "code",
   "execution_count": 4,
   "metadata": {},
   "outputs": [
    {
     "name": "stdout",
     "output_type": "stream",
     "text": [
      "CPLEX 22.1.1CPLEX 22.1.1: optimal solution; objective -108390\n",
      "15 simplex iterations\n",
      "Objective value: 108390.0 €\n"
     ]
    }
   ],
   "source": [
    "ampl.solve(solver=\"cplex\")\n",
    "\n",
    "obj_value = obj = ampl.get_objective(\"Cost_total\").value()\n",
    "print(f\"Objective value: {-obj_value} €\")"
   ]
  },
  {
   "cell_type": "markdown",
   "metadata": {},
   "source": [
    "Export solution as CSV:"
   ]
  },
  {
   "cell_type": "code",
   "execution_count": null,
   "metadata": {},
   "outputs": [],
   "source": [
    "import os\n",
    "\n",
    "os.makedirs('exports/', exist_ok=True)\n",
    "\n",
    "ampl.get_variable(\"x\").getValues().to_pandas().to_csv(\"exports/x.csv\")\n",
    "ampl.get_variable(\"y\").getValues().to_pandas().to_csv(\"exports/y.csv\")\n",
    "ampl.get_variable(\"w\").getValues().to_pandas().to_csv(\"exports/w.csv\")\n",
    "ampl.get_variable(\"wbelow\").getValues().to_pandas().to_csv(\"exports/wbelow.csv\")\n",
    "ampl.get_variable(\"wabove\").getValues().to_pandas().to_csv(\"exports/wabove.csv\")"
   ]
  }
 ],
 "metadata": {
  "kernelspec": {
   "display_name": ".venv",
   "language": "python",
   "name": "python3"
  },
  "language_info": {
   "codemirror_mode": {
    "name": "ipython",
    "version": 3
   },
   "file_extension": ".py",
   "mimetype": "text/x-python",
   "name": "python",
   "nbconvert_exporter": "python",
   "pygments_lexer": "ipython3",
   "version": "3.12.3"
  }
 },
 "nbformat": 4,
 "nbformat_minor": 2
}
